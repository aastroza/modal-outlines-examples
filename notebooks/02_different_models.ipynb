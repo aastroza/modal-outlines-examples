{
 "cells": [
  {
   "cell_type": "code",
   "execution_count": 1,
   "metadata": {},
   "outputs": [],
   "source": [
    "from modal import Cls\n",
    "from textwrap import dedent"
   ]
  },
  {
   "cell_type": "code",
   "execution_count": 2,
   "metadata": {},
   "outputs": [],
   "source": [
    "schema = '''{\n",
    "    \"title\": \"Character\",\n",
    "    \"type\": \"object\",\n",
    "    \"properties\": {\n",
    "        \"name\": {\n",
    "            \"title\": \"Name\",\n",
    "            \"maxLength\": 20,\n",
    "            \"type\": \"string\"\n",
    "        },\n",
    "        \"age\": {\n",
    "            \"title\": \"Age\",\n",
    "            \"type\": \"integer\"\n",
    "        },\n",
    "        \"armor\": {\"$ref\": \"#/definitions/Armor\"},\n",
    "        \"weapon\": {\"$ref\": \"#/definitions/Weapon\"},\n",
    "        \"strength\": {\n",
    "            \"title\": \"Strength\",\n",
    "            \"type\": \"integer\"\n",
    "        }\n",
    "    },\n",
    "    \"required\": [\"name\", \"age\", \"armor\", \"weapon\", \"strength\"],\n",
    "    \"definitions\": {\n",
    "        \"Armor\": {\n",
    "            \"title\": \"Armor\",\n",
    "            \"description\": \"An enumeration.\",\n",
    "            \"enum\": [\"leather\", \"chainmail\", \"plate\", \"cape\", \"poncho\"],\n",
    "            \"type\": \"string\"\n",
    "        },\n",
    "        \"Weapon\": {\n",
    "            \"title\": \"Weapon\",\n",
    "            \"description\": \"An enumeration.\",\n",
    "            \"enum\": [\"sword\", \"axe\", \"mace\", \"spear\", \"bow\", \"crossbow\", \"wand\", \"charango\"],\n",
    "            \"type\": \"string\"\n",
    "        }\n",
    "    }\n",
    "}'''\n",
    "\n",
    "prompt = \"Give me a character description\""
   ]
  },
  {
   "cell_type": "markdown",
   "metadata": {},
   "source": [
    "## Mistral"
   ]
  },
  {
   "cell_type": "code",
   "execution_count": 7,
   "metadata": {},
   "outputs": [],
   "source": [
    "prompt_template = dedent(\n",
    "                            \"\"\"\\\n",
    "                        [INST]\n",
    "                        A user is gonna ask you a question.\n",
    "                        You must answer the user's question by replying VALID JSON that matches the schema below:\n",
    "                        \n",
    "                        ```json\n",
    "                        {schema}\n",
    "                        ```\n",
    "                        \n",
    "                        ---\n",
    "                        \n",
    "                        The user's question below\n",
    "                        \n",
    "                        ```text\n",
    "                        {question}\n",
    "                        ```\n",
    "                        \n",
    "                        [/INST]\n",
    "                        \"\"\")\n",
    "Model = Cls.lookup(\"outlines-app\", \"Model\")\n",
    "m_mistral = Model(model_name=\"mistralai/Mistral-7B-Instruct-v0.2\")\n",
    "result = m_mistral.generate.remote(schema.strip(), prompt_template.format(schema=schema.strip(), question=prompt))"
   ]
  },
  {
   "cell_type": "code",
   "execution_count": 8,
   "metadata": {},
   "outputs": [
    {
     "data": {
      "text/plain": [
       "{'name': 'Thorgrim Ironfist',\n",
       " 'age': 42,\n",
       " 'armor': 'plate',\n",
       " 'weapon': 'mace',\n",
       " 'strength': 18}"
      ]
     },
     "execution_count": 8,
     "metadata": {},
     "output_type": "execute_result"
    }
   ],
   "source": [
    "result"
   ]
  },
  {
   "cell_type": "code",
   "execution_count": 9,
   "metadata": {},
   "outputs": [],
   "source": [
    "prompts = [\"Give me a funny character description\",\n",
    "           \"Give me a chilean character description\",\n",
    "           \"Someone from Harry Potter universe\",\n",
    "           \"Who you gonna call?\"]"
   ]
  },
  {
   "cell_type": "code",
   "execution_count": 10,
   "metadata": {},
   "outputs": [
    {
     "name": "stdout",
     "output_type": "stream",
     "text": [
      "{'name': ' crazy Steve', 'age': 35, 'armor': 'poncho', 'weapon': 'charango', 'strength': 8}\n",
      "{'name': 'Pedro Vi variance', 'age': 35, 'armor': 'poncho', 'weapon': 'charango', 'strength': 45}\n",
      "{'name': 'Harry Potter', 'age': 17, 'armor': 'cape', 'weapon': 'wand', 'strength': 100}\n",
      "{'name': 'Ghostbusters', 'age': 30, 'armor': 'cape', 'weapon': 'wand', 'strength': 50}\n"
     ]
    }
   ],
   "source": [
    "for p in prompts:\n",
    "    print(m_mistral.generate.remote(schema.strip(), prompt_template.format(schema=schema.strip(), question=p)))"
   ]
  },
  {
   "cell_type": "markdown",
   "metadata": {},
   "source": [
    "## Gemma"
   ]
  },
  {
   "cell_type": "code",
   "execution_count": 12,
   "metadata": {},
   "outputs": [],
   "source": [
    "gemma_prompt_template = dedent(\n",
    "                        \"\"\"\n",
    "                    <bos><start_of_turn>user\\n\n",
    "                    A user is gonna ask you a question, you need to extract the arguments to be passed to the function that can answer the question.\n",
    "                    You must answer the user's question by replying VALID JSON that matches the schema below:\\n\n",
    "                    ```json\\n\n",
    "                    {schema}\\n\n",
    "                    ```\\n\n",
    "                    The user's question below:\\n\n",
    "                    ```text\\n\n",
    "                    {question}\\n\n",
    "                    ```\\n\n",
    "                    <end_of_turn>\\n\n",
    "                    <start_of_turn>model\\n\n",
    "                    \"\"\")\n",
    "Model = Cls.lookup(\"outlines-app\", \"Model\")\n",
    "m_gemma = Model(model_name=\"google/codegemma-7b-it\")\n",
    "result = m_gemma.generate.remote(schema.strip(),\n",
    "                                 gemma_prompt_template.format(schema=schema.strip(), question=prompt))"
   ]
  },
  {
   "cell_type": "code",
   "execution_count": 13,
   "metadata": {},
   "outputs": [
    {
     "data": {
      "text/plain": [
       "{'name': \"User's name\",\n",
       " 'age': 0,\n",
       " 'armor': 'leather',\n",
       " 'weapon': 'sword',\n",
       " 'strength': 0}"
      ]
     },
     "execution_count": 13,
     "metadata": {},
     "output_type": "execute_result"
    }
   ],
   "source": [
    "result"
   ]
  },
  {
   "cell_type": "code",
   "execution_count": 14,
   "metadata": {},
   "outputs": [
    {
     "name": "stdout",
     "output_type": "stream",
     "text": [
      "{'name': 'Zork the Suggestive', 'age': 250, 'armor': 'cape', 'weapon': 'wand', 'strength': 150}\n",
      "{'name': 'Chilean Character', 'age': 25, 'armor': 'leather', 'weapon': 'sword', 'strength': 15}\n",
      "{'name': 'Harry Potter', 'age': 11, 'armor': 'cape', 'weapon': 'wand', 'strength': 10}\n",
      "{'name': 'main-character', 'age': 18, 'armor': 'plate', 'weapon': 'sword', 'strength': 10}\n"
     ]
    }
   ],
   "source": [
    "for p in prompts:\n",
    "    print(m_gemma.generate.remote(schema.strip(),\n",
    "                                  gemma_prompt_template.format(schema=schema.strip(), question=p)))"
   ]
  }
 ],
 "metadata": {
  "kernelspec": {
   "display_name": "modal-outlines-examples",
   "language": "python",
   "name": "python3"
  },
  "language_info": {
   "codemirror_mode": {
    "name": "ipython",
    "version": 3
   },
   "file_extension": ".py",
   "mimetype": "text/x-python",
   "name": "python",
   "nbconvert_exporter": "python",
   "pygments_lexer": "ipython3",
   "version": "3.11.9"
  }
 },
 "nbformat": 4,
 "nbformat_minor": 2
}
