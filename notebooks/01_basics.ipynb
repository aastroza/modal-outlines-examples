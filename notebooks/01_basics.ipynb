{
 "cells": [
  {
   "cell_type": "code",
   "execution_count": 5,
   "metadata": {},
   "outputs": [],
   "source": [
    "from modal import Cls\n",
    "from textwrap import dedent"
   ]
  },
  {
   "cell_type": "code",
   "execution_count": 29,
   "metadata": {},
   "outputs": [],
   "source": [
    "schema = '''{\n",
    "    \"title\": \"Character\",\n",
    "    \"type\": \"object\",\n",
    "    \"properties\": {\n",
    "        \"name\": {\n",
    "            \"title\": \"Name\",\n",
    "            \"maxLength\": 20,\n",
    "            \"type\": \"string\"\n",
    "        },\n",
    "        \"age\": {\n",
    "            \"title\": \"Age\",\n",
    "            \"type\": \"integer\"\n",
    "        },\n",
    "        \"armor\": {\"$ref\": \"#/definitions/Armor\"},\n",
    "        \"weapon\": {\"$ref\": \"#/definitions/Weapon\"},\n",
    "        \"strength\": {\n",
    "            \"title\": \"Strength\",\n",
    "            \"type\": \"integer\"\n",
    "        }\n",
    "    },\n",
    "    \"required\": [\"name\", \"age\", \"armor\", \"weapon\", \"strength\"],\n",
    "    \"definitions\": {\n",
    "        \"Armor\": {\n",
    "            \"title\": \"Armor\",\n",
    "            \"description\": \"An enumeration.\",\n",
    "            \"enum\": [\"leather\", \"chainmail\", \"plate\", \"cape\", \"poncho\"],\n",
    "            \"type\": \"string\"\n",
    "        },\n",
    "        \"Weapon\": {\n",
    "            \"title\": \"Weapon\",\n",
    "            \"description\": \"An enumeration.\",\n",
    "            \"enum\": [\"sword\", \"axe\", \"mace\", \"spear\", \"bow\", \"crossbow\", \"wand\", \"charango\"],\n",
    "            \"type\": \"string\"\n",
    "        }\n",
    "    }\n",
    "}'''\n",
    "\n",
    "prompt = \"Give me a character description\""
   ]
  },
  {
   "cell_type": "code",
   "execution_count": 30,
   "metadata": {},
   "outputs": [],
   "source": [
    "prompt_template = dedent(\n",
    "                            \"\"\"\\\n",
    "                        <s>[INST]\n",
    "                        A user is gonna ask you a question.\n",
    "                        You must answer the user's question by replying VALID JSON that matches the schema below:\n",
    "                        \n",
    "                        ```json\n",
    "                        {schema}\n",
    "                        ```\n",
    "                        \n",
    "                        ---\n",
    "                        \n",
    "                        The user's question below\n",
    "                        \n",
    "                        ```text\n",
    "                        {question}\n",
    "                        ```\n",
    "                        \n",
    "                        [/INST]\n",
    "                        \"\"\")\n",
    "Model = Cls.lookup(\"outlines-app\", \"Model\")\n",
    "m = Model()\n",
    "result = m.generate.remote(schema.strip(), prompt_template.format(schema=schema.strip(), question=prompt))"
   ]
  },
  {
   "cell_type": "code",
   "execution_count": 31,
   "metadata": {},
   "outputs": [
    {
     "data": {
      "text/plain": [
       "{'name': 'Thorgrim Ironfist',\n",
       " 'age': 42,\n",
       " 'armor': 'plate',\n",
       " 'weapon': 'mace',\n",
       " 'strength': 25}"
      ]
     },
     "execution_count": 31,
     "metadata": {},
     "output_type": "execute_result"
    }
   ],
   "source": [
    "result"
   ]
  },
  {
   "cell_type": "code",
   "execution_count": 32,
   "metadata": {},
   "outputs": [],
   "source": [
    "prompts = [\"Give me a funny character description\",\n",
    "           \"Give me a chilean character description\",\n",
    "           \"Someone from Harry Potter universe\",\n",
    "           \"Who you gonna call?\"]"
   ]
  },
  {
   "cell_type": "code",
   "execution_count": 33,
   "metadata": {},
   "outputs": [
    {
     "name": "stdout",
     "output_type": "stream",
     "text": [
      "{'name': 'Kablooie the Profund', 'age': 420, 'armor': 'poncho', 'weapon': 'charango', 'strength': 4200000000}\n",
      "{'name': 'Pedro Valdivia', 'age': 52, 'armor': 'chainmail', 'weapon': 'spear', 'strength': 15}\n",
      "{'name': 'Harry Potter', 'age': 17, 'armor': 'cape', 'weapon': 'wand', 'strength': 90}\n",
      "{'name': 'GhostbustersTeam', 'age': 35, 'armor': 'cape', 'weapon': 'wand', 'strength': 85}\n"
     ]
    }
   ],
   "source": [
    "for p in prompts:\n",
    "    print(m.generate.remote(schema.strip(), prompt_template.format(schema=schema.strip(), question=p)))"
   ]
  }
 ],
 "metadata": {
  "kernelspec": {
   "display_name": "modal-outlines-examples",
   "language": "python",
   "name": "python3"
  },
  "language_info": {
   "codemirror_mode": {
    "name": "ipython",
    "version": 3
   },
   "file_extension": ".py",
   "mimetype": "text/x-python",
   "name": "python",
   "nbconvert_exporter": "python",
   "pygments_lexer": "ipython3",
   "version": "3.11.9"
  }
 },
 "nbformat": 4,
 "nbformat_minor": 2
}
